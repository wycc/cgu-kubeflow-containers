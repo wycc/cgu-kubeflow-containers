{
 "cells": [
  {
   "cell_type": "markdown",
   "id": "48c5b624-a08b-4d2f-ae11-d30b77686285",
   "metadata": {},
   "source": [
    "# Enable persisitent package installation\n",
    "\n",
    "Typically, we need to use the \"!pip install\" when we need to add packages which is not pre-installed since the docker will not keep the changes in filesystem outside the home directory.\n",
    "\n",
    "In order to keep those changes, we need to move the directories which will be written when we install new packages. \n",
    "\n",
    "For annaconda, we can move the envs directory by using the following command. The boot script will check the existence of the directory /home/jovyan/envs. If it is available, we will use it to replace the envs in the docker image.\n",
    "\n",
    "By default, we will not enable this feature since it takes a long time to copy the files(since it has 12G). Please execute the following cell to enable this feature."
   ]
  },
  {
   "cell_type": "code",
   "execution_count": null,
   "id": "fff5b801-afed-413b-b350-bb7592dcbc34",
   "metadata": {},
   "outputs": [],
   "source": [
    "!touch /home/jovyan/enable_persistent\n",
    "!time cp -a /opt/conda/envs /home/jovyan"
   ]
  }
 ],
 "metadata": {
  "kernelspec": {
   "display_name": "Python [conda env:root] *",
   "language": "python",
   "name": "conda-root-py"
  },
  "language_info": {
   "codemirror_mode": {
    "name": "ipython",
    "version": 3
   },
   "file_extension": ".py",
   "mimetype": "text/x-python",
   "name": "python",
   "nbconvert_exporter": "python",
   "pygments_lexer": "ipython3",
   "version": "3.9.13"
  }
 },
 "nbformat": 4,
 "nbformat_minor": 5
}
