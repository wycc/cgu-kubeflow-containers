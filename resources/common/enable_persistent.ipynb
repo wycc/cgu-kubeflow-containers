{
 "cells": [
  {
   "cell_type": "markdown",
   "id": "48c5b624-a08b-4d2f-ae11-d30b77686285",
   "metadata": {},
   "source": [
    "# Enable persisitent package installation\n",
    "\n",
    "Typically, we need to use the \"!pip install\" when we need to add packages which is not pre-installed since the docker will not keep the changes in filesystem outside the home directory.\n",
    "\n",
    "In order to keep those changes, we need to move the directories which will be written when we install new packages. \n",
    "\n",
    "For annaconda, we can move the envs directory by using the following command. The boot script will check the existence of the directory /home/jovyan/envs. If it is available, we will use it to replace the envs in the docker image.\n",
    "\n",
    "By default, we will not enable this feature since it takes a long time to copy the files(since it has 12G). Please execute the following cell to enable this feature."
   ]
  },
  {
   "cell_type": "markdown",
   "id": "cf33938e-62ae-4fd4-81aa-be95b633ad05",
   "metadata": {},
   "source": [
    "# Be patients, this step will take 2-3 minutes\n",
    "\n",
    "If you do not need to install new modules in tensorflow kernel, skip this step."
   ]
  },
  {
   "cell_type": "code",
   "execution_count": 1,
   "id": "fff5b801-afed-413b-b350-bb7592dcbc34",
   "metadata": {
    "execution": {
     "iopub.execute_input": "2023-09-08T00:28:59.786862Z",
     "iopub.status.busy": "2023-09-08T00:28:59.786529Z",
     "iopub.status.idle": "2023-09-08T00:33:48.381452Z",
     "shell.execute_reply": "2023-09-08T00:33:48.380703Z",
     "shell.execute_reply.started": "2023-09-08T00:28:59.786837Z"
    },
    "tags": []
   },
   "outputs": [
    {
     "name": "stdout",
     "output_type": "stream",
     "text": [
      "\n",
      "real\t4m48.051s\n",
      "user\t0m0.755s\n",
      "sys\t0m28.941s\n"
     ]
    }
   ],
   "source": [
    "!touch /home/jovyan/enable_persistent\n",
    "!mkdir -p /home/jovyan/envs\n",
    "!cp -a /opt/conda/envs/tensorflow /home/jovyan/envs"
   ]
  },
  {
   "cell_type": "markdown",
   "id": "edfefc43-759d-45d1-a404-f4cc33bc1c39",
   "metadata": {},
   "source": [
    "# Copy files for pytorch\n",
    "If you do not need to install new modules in pytorch kernel, skip this step."
   ]
  },
  {
   "cell_type": "code",
   "execution_count": null,
   "id": "f80b33f1-e613-4dcd-8417-9d2cfba4d4bd",
   "metadata": {
    "execution": {
     "iopub.execute_input": "2023-09-08T00:36:52.550768Z",
     "iopub.status.busy": "2023-09-08T00:36:52.550376Z"
    },
    "tags": []
   },
   "outputs": [],
   "source": [
    "!touch /home/jovyan/enable_persistent\n",
    "!mkdir -p /home/jovyan/envs\n",
    "!cp -a /opt/conda/envs/tensorflow /home/jovyan/envs"
   ]
  }
 ],
 "metadata": {
  "kernelspec": {
   "display_name": "Python [conda env:root] *",
   "language": "python",
   "name": "conda-root-py"
  },
  "language_info": {
   "codemirror_mode": {
    "name": "ipython",
    "version": 3
   },
   "file_extension": ".py",
   "mimetype": "text/x-python",
   "name": "python",
   "nbconvert_exporter": "python",
   "pygments_lexer": "ipython3",
   "version": "3.9.13"
  }
 },
 "nbformat": 4,
 "nbformat_minor": 5
}
