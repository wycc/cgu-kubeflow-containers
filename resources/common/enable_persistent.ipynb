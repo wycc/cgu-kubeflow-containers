{
 "cells": [
  {
   "cell_type": "markdown",
   "id": "48c5b624-a08b-4d2f-ae11-d30b77686285",
   "metadata": {},
   "source": [
    "# Enable persisitent package installation\n",
    "\n",
    "Typically, we need to use the \"!pip install\" when we need to add packages which is not pre-installed since the docker will not keep the changes in filesystem outside the home directory.\n",
    "\n",
    "In order to keep those changes, we need to move the directories which will be written when we install new packages. \n",
    "\n",
    "For annaconda, we can move the envs directory by using the following command. The boot script will check the existence of the directory /home/jovyan/envs. If it is available, we will use it to replace the envs in the docker image.\n",
    "\n",
    "By default, we will not enable this feature since it takes a long time to copy the files(since it has 12G). Please execute the following cell to enable this feature."
   ]
  },
  {
   "cell_type": "markdown",
   "id": "cf33938e-62ae-4fd4-81aa-be95b633ad05",
   "metadata": {},
   "source": [
    "# Be patients, this step will take 2-3 minutes\n",
    "\n",
    "If you do not need to install new modules in tensorflow kernel, skip this step."
   ]
  },
  {
   "cell_type": "code",
   "execution_count": 1,
   "id": "fff5b801-afed-413b-b350-bb7592dcbc34",
   "metadata": {
    "execution": {
     "iopub.execute_input": "2023-09-08T00:42:12.797410Z",
     "iopub.status.busy": "2023-09-08T00:42:12.797131Z",
     "iopub.status.idle": "2023-09-08T00:44:54.978243Z",
     "shell.execute_reply": "2023-09-08T00:44:54.977315Z",
     "shell.execute_reply.started": "2023-09-08T00:42:12.797391Z"
    },
    "tags": []
   },
   "outputs": [],
   "source": [
    "!touch /home/jovyan/enable_persistent\n",
    "!mkdir -p /home/jovyan/.conda/envs\n",
    "!cp -a /opt/conda/envs/tensorflow /home/jovyan/.conda/envs"
   ]
  },
  {
   "cell_type": "markdown",
   "id": "edfefc43-759d-45d1-a404-f4cc33bc1c39",
   "metadata": {},
   "source": [
    "# Copy files for pytorch\n",
    "If you do not need to install new modules in pytorch kernel, skip this step."
   ]
  },
  {
   "cell_type": "code",
   "execution_count": null,
   "id": "f80b33f1-e613-4dcd-8417-9d2cfba4d4bd",
   "metadata": {
    "execution": {
     "iopub.execute_input": "2023-09-08T00:36:52.550768Z",
     "iopub.status.busy": "2023-09-08T00:36:52.550376Z"
    },
    "tags": []
   },
   "outputs": [],
   "source": [
    "!touch /home/jovyan/enable_persistent\n",
    "!mkdir -p /home/jovyan/.conda/envs\n",
    "!cp -a /opt/conda/envs/pytorch /home/jovyan/.conda/envs"
   ]
  },
  {
   "cell_type": "markdown",
   "id": "5f29b39c-b100-40de-8137-4228fc2fc5c3",
   "metadata": {},
   "source": [
    "# Switch your kernel now\n",
    "\n",
    "Press the Python text in the up right corner and select your kernel."
   ]
  },
  {
   "cell_type": "code",
   "execution_count": 5,
   "id": "84022e7a-e490-4cd8-861d-431d28b7081b",
   "metadata": {
    "execution": {
     "iopub.execute_input": "2023-09-08T00:45:52.641080Z",
     "iopub.status.busy": "2023-09-08T00:45:52.640736Z",
     "iopub.status.idle": "2023-09-08T00:45:52.656975Z",
     "shell.execute_reply": "2023-09-08T00:45:52.656417Z",
     "shell.execute_reply.started": "2023-09-08T00:45:52.641055Z"
    },
    "tags": []
   },
   "outputs": [
    {
     "ename": "ModuleNotFoundError",
     "evalue": "No module named 'django'",
     "output_type": "error",
     "traceback": [
      "\u001b[0;31m---------------------------------------------------------------------------\u001b[0m",
      "\u001b[0;31mModuleNotFoundError\u001b[0m                       Traceback (most recent call last)",
      "Cell \u001b[0;32mIn [5], line 1\u001b[0m\n\u001b[0;32m----> 1\u001b[0m \u001b[38;5;28;01mimport\u001b[39;00m \u001b[38;5;21;01mdjango\u001b[39;00m\n",
      "\u001b[0;31mModuleNotFoundError\u001b[0m: No module named 'django'"
     ]
    }
   ],
   "source": [
    "import django"
   ]
  },
  {
   "cell_type": "code",
   "execution_count": 6,
   "id": "a8e136dc-343a-4036-9759-2a5af25e43bb",
   "metadata": {
    "execution": {
     "iopub.execute_input": "2023-09-08T00:45:55.902303Z",
     "iopub.status.busy": "2023-09-08T00:45:55.902005Z",
     "iopub.status.idle": "2023-09-08T00:46:02.742451Z",
     "shell.execute_reply": "2023-09-08T00:46:02.741730Z",
     "shell.execute_reply.started": "2023-09-08T00:45:55.902282Z"
    },
    "tags": []
   },
   "outputs": [
    {
     "name": "stdout",
     "output_type": "stream",
     "text": [
      "Collecting django\n",
      "  Downloading Django-4.2.5-py3-none-any.whl (8.0 MB)\n",
      "\u001b[2K     \u001b[90m━━━━━━━━━━━━━━━━━━━━━━━━━━━━━━━━━━━━━━━━\u001b[0m \u001b[32m8.0/8.0 MB\u001b[0m \u001b[31m11.6 MB/s\u001b[0m eta \u001b[36m0:00:00\u001b[0m00:01\u001b[0m00:01\u001b[0m\n",
      "\u001b[?25hCollecting asgiref<4,>=3.6.0\n",
      "  Downloading asgiref-3.7.2-py3-none-any.whl (24 kB)\n",
      "Collecting sqlparse>=0.3.1\n",
      "  Downloading sqlparse-0.4.4-py3-none-any.whl (41 kB)\n",
      "\u001b[2K     \u001b[90m━━━━━━━━━━━━━━━━━━━━━━━━━━━━━━━━━━━━━━━━\u001b[0m \u001b[32m41.2/41.2 kB\u001b[0m \u001b[31m7.4 MB/s\u001b[0m eta \u001b[36m0:00:00\u001b[0m\n",
      "\u001b[?25hRequirement already satisfied: typing-extensions>=4 in /opt/conda/lib/python3.9/site-packages (from asgiref<4,>=3.6.0->django) (4.7.1)\n",
      "Installing collected packages: sqlparse, asgiref, django\n",
      "Successfully installed asgiref-3.7.2 django-4.2.5 sqlparse-0.4.4\n",
      "\u001b[33mWARNING: Running pip as the 'root' user can result in broken permissions and conflicting behaviour with the system package manager. It is recommended to use a virtual environment instead: https://pip.pypa.io/warnings/venv\u001b[0m\u001b[33m\n",
      "\u001b[0m"
     ]
    }
   ],
   "source": [
    "!pip install django"
   ]
  },
  {
   "cell_type": "code",
   "execution_count": 7,
   "id": "20ea7b24-bb93-4baa-ad24-704aa6b42414",
   "metadata": {
    "execution": {
     "iopub.execute_input": "2023-09-08T00:46:11.613713Z",
     "iopub.status.busy": "2023-09-08T00:46:11.613329Z",
     "iopub.status.idle": "2023-09-08T00:46:11.619419Z",
     "shell.execute_reply": "2023-09-08T00:46:11.619004Z",
     "shell.execute_reply.started": "2023-09-08T00:46:11.613687Z"
    },
    "tags": []
   },
   "outputs": [],
   "source": [
    "import django"
   ]
  },
  {
   "cell_type": "markdown",
   "id": "d081b9df-6063-42bf-a5e6-7daf64a6ccc8",
   "metadata": {},
   "source": [
    "# Now, you can restart your notebook to see if the django is persistent or not"
   ]
  }
 ],
 "metadata": {
  "kernelspec": {
   "display_name": "Python [conda env:root] *",
   "language": "python",
   "name": "conda-root-py"
  },
  "language_info": {
   "codemirror_mode": {
    "name": "ipython",
    "version": 3
   },
   "file_extension": ".py",
   "mimetype": "text/x-python",
   "name": "python",
   "nbconvert_exporter": "python",
   "pygments_lexer": "ipython3",
   "version": "3.9.13"
  }
 },
 "nbformat": 4,
 "nbformat_minor": 5
}
